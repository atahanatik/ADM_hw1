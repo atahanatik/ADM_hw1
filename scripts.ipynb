{
 "cells": [
  {
   "cell_type": "markdown",
   "id": "d479241b",
   "metadata": {},
   "source": [
    "#### Say \"Hello, World!\" With Python"
   ]
  },
  {
   "cell_type": "code",
   "execution_count": null,
   "id": "b0f61656",
   "metadata": {},
   "outputs": [],
   "source": [
    "if __name__ == '__main__':\n",
    "    print(\"Hello, World!\")\n"
   ]
  },
  {
   "cell_type": "markdown",
   "id": "9ad6a898",
   "metadata": {},
   "source": [
    "#### Python If-Else"
   ]
  },
  {
   "cell_type": "code",
   "execution_count": null,
   "id": "70401043",
   "metadata": {},
   "outputs": [],
   "source": [
    "#!/bin/python3\n",
    "\n",
    "import math\n",
    "import os\n",
    "import random\n",
    "import re\n",
    "import sys\n",
    "\n",
    "\n",
    "\n",
    "if __name__ == '__main__':\n",
    "    n = int(input().strip())\n",
    "\n",
    "    if n%2!=0:\n",
    "        print(\"Weird\")\n",
    "    else:\n",
    "        if 2<=n<=5:\n",
    "            print(\"Not Weird\")\n",
    "        elif 6<=n<=20:\n",
    "          print(\"Weird\")\n",
    "        elif n>=20:\n",
    "          print(\"Not Weird\")    \n"
   ]
  },
  {
   "cell_type": "markdown",
   "id": "384751fa",
   "metadata": {},
   "source": [
    "#### Arithmetic Operators"
   ]
  },
  {
   "cell_type": "code",
   "execution_count": null,
   "id": "1a3a1aeb",
   "metadata": {},
   "outputs": [],
   "source": [
    "if __name__ == '__main__':\n",
    "    a = int(input())\n",
    "    b = int(input())\n",
    "    \n",
    "    print(a+b)\n",
    "    print(a-b)\n",
    "    print(a*b)\n"
   ]
  },
  {
   "cell_type": "markdown",
   "id": "d7cce599",
   "metadata": {},
   "source": [
    "#### Python: Division"
   ]
  },
  {
   "cell_type": "code",
   "execution_count": null,
   "id": "a83dca89",
   "metadata": {},
   "outputs": [],
   "source": [
    "if __name__ == '__main__':\n",
    "    a = int(input())\n",
    "    b = int(input())\n",
    "    print(int(a//b))\n",
    "    print(float(a/b))\n"
   ]
  },
  {
   "cell_type": "markdown",
   "id": "4b069fb8",
   "metadata": {},
   "source": [
    "#### Loops"
   ]
  },
  {
   "cell_type": "code",
   "execution_count": null,
   "id": "71388cb4",
   "metadata": {},
   "outputs": [],
   "source": [
    "if __name__ == '__main__':\n",
    "    n = int(input())\n",
    "    i=0\n",
    "    while i<n:\n",
    "        print(i*i)\n",
    "        i+=1\n",
    "    \n"
   ]
  },
  {
   "cell_type": "markdown",
   "id": "c5abebd1",
   "metadata": {},
   "source": [
    "#### Write a function"
   ]
  },
  {
   "cell_type": "code",
   "execution_count": null,
   "id": "1e9ea1a2",
   "metadata": {},
   "outputs": [],
   "source": [
    "def is_leap(year):\n",
    "    leap = False\n",
    "    if (year%4==0 and year%100!=0)or (year%100==0 and year%400==0):\n",
    "        leap= True\n",
    "    return leap\n",
    "\n"
   ]
  },
  {
   "cell_type": "markdown",
   "id": "d0ec3c70",
   "metadata": {},
   "source": [
    "#### Write a function"
   ]
  },
  {
   "cell_type": "code",
   "execution_count": null,
   "id": "2220d0b6",
   "metadata": {},
   "outputs": [],
   "source": [
    "def is_leap(year):\n",
    "    leap = False\n",
    "    if (year%4==0 and year%100!=0)or (year%100==0 and year%400==0):\n",
    "        leap= True\n",
    "    return leap\n",
    "\n"
   ]
  },
  {
   "cell_type": "markdown",
   "id": "12939973",
   "metadata": {},
   "source": [
    "#### Print Function"
   ]
  },
  {
   "cell_type": "code",
   "execution_count": null,
   "id": "27b7d6fd",
   "metadata": {},
   "outputs": [],
   "source": [
    "if __name__ == '__main__':\n",
    "    n = int(input())\n",
    "    for i in range(1,n+1):\n",
    "     print(i,end=\"\")\n"
   ]
  },
  {
   "cell_type": "markdown",
   "id": "57c4763a",
   "metadata": {},
   "source": [
    "#### Find the Runner-Up Score!  "
   ]
  },
  {
   "cell_type": "code",
   "execution_count": null,
   "id": "14c2ec3d",
   "metadata": {},
   "outputs": [],
   "source": [
    "if __name__ == '__main__':\n",
    "    n = int(input())\n",
    "    arr = map(int, input().split())\n",
    "    \n",
    "    list =[]\n",
    "    for i in arr:\n",
    "        list.append(i)\n",
    "        \n",
    "    check=max(list)\n",
    "    while max(list)== check:\n",
    "         list.remove(max(list))\n",
    "    print(max(list))\n"
   ]
  },
  {
   "cell_type": "markdown",
   "id": "7c07bf60",
   "metadata": {},
   "source": [
    "#### Arrays"
   ]
  },
  {
   "cell_type": "code",
   "execution_count": null,
   "id": "ac613cc3",
   "metadata": {},
   "outputs": [],
   "source": [
    "\n",
    "\n",
    "\n",
    "\n",
    "def arrays(arr):\n",
    "    # complete this function\n",
    "    # use numpy.array\n",
    "    list=[]\n",
    "    for i in arr:\n",
    "        list.append(float(i)) \n",
    "    x=numpy.array(list)\n",
    "    y=numpy.flip(x)\n",
    "    return y\n"
   ]
  },
  {
   "cell_type": "markdown",
   "id": "a23e22b7",
   "metadata": {},
   "source": [
    "#### List Comprehensions"
   ]
  },
  {
   "cell_type": "code",
   "execution_count": null,
   "id": "4768f588",
   "metadata": {},
   "outputs": [],
   "source": [
    "if __name__ == '__main__':\n",
    "    x = int(input())\n",
    "    y = int(input())\n",
    "    z = int(input())\n",
    "    n = int(input())\n",
    "    \n",
    "x= x+1\n",
    "y= y+1\n",
    "z= z+1\n",
    "\n",
    "output= [[a, b, c] for a in range(x) for b in range(y) for c in range(z) if a + b + c != n]\n",
    "print(output)\n"
   ]
  },
  {
   "cell_type": "markdown",
   "id": "0823e737",
   "metadata": {},
   "source": [
    "#### Finding the percentage"
   ]
  },
  {
   "cell_type": "code",
   "execution_count": null,
   "id": "fb406e89",
   "metadata": {},
   "outputs": [],
   "source": [
    "if __name__ == '__main__':\n",
    "    n = int(input())\n",
    "    student_marks = {}\n",
    "    for _ in range(n):\n",
    "        name, *line = input().split()\n",
    "        scores = list(map(float, line))\n",
    "        student_marks[name] = scores\n",
    "    query_name = input()\n",
    "    \n",
    "   \n",
    "    \n",
    "x= student_marks[query_name]\n",
    "\n",
    "a=0\n",
    "for i in x:\n",
    "    a=a+i\n",
    "cevap=a/len(x)    \n",
    "print('%.2f' % cevap)\n",
    "\n",
    "\n"
   ]
  },
  {
   "cell_type": "markdown",
   "id": "e6d0883c",
   "metadata": {},
   "source": [
    "#### Finding the percentage"
   ]
  },
  {
   "cell_type": "code",
   "execution_count": null,
   "id": "827dc5c2",
   "metadata": {},
   "outputs": [],
   "source": [
    "if __name__ == '__main__':\n",
    "    n = int(input())\n",
    "    student_marks = {}\n",
    "    for _ in range(n):\n",
    "        name, *line = input().split()\n",
    "        scores = list(map(float, line))\n",
    "        student_marks[name] = scores\n",
    "    query_name = input()\n",
    "    \n",
    "   \n",
    "    \n",
    "x= student_marks[query_name]\n",
    "\n",
    "a=0\n",
    "for i in x:\n",
    "    a=a+i\n",
    "cevap=a/len(x)    \n",
    "print('%.2f' % cevap)\n",
    "\n",
    "\n"
   ]
  },
  {
   "cell_type": "markdown",
   "id": "d8a2e2a4",
   "metadata": {},
   "source": [
    "#### sWAP cASE"
   ]
  },
  {
   "cell_type": "code",
   "execution_count": null,
   "id": "9b76f580",
   "metadata": {},
   "outputs": [],
   "source": [
    "def swap_case(s):\n",
    "    b=\"\"\n",
    "    \n",
    "    for i in range(len(s)):\n",
    "        if s[i].isupper():\n",
    "            b=b+s[i].lower()\n",
    "        else:\n",
    "            b=b+s[i].upper()\n",
    "    return b\n",
    "\n",
    "\n"
   ]
  },
  {
   "cell_type": "markdown",
   "id": "964b2060",
   "metadata": {},
   "source": [
    "#### String Split and Join"
   ]
  },
  {
   "cell_type": "code",
   "execution_count": null,
   "id": "3b34c074",
   "metadata": {},
   "outputs": [],
   "source": [
    "def split_and_join(line):\n",
    "    line=line.split(\" \")\n",
    "    line=\"-\".join(line)\n",
    "\n",
    "    return line\n",
    "    # write your code here\n",
    "\n"
   ]
  },
  {
   "cell_type": "markdown",
   "id": "0c9b73c6",
   "metadata": {},
   "source": [
    "#### Lists"
   ]
  },
  {
   "cell_type": "code",
   "execution_count": null,
   "id": "fe8c1f6e",
   "metadata": {},
   "outputs": [],
   "source": [
    "if __name__ == '__main__':\n",
    "    N = int(input())\n",
    "    \n",
    "Liste = []\n",
    "for t in range(0,N):\n",
    "     x = input().strip().split(\" \")\n",
    "     if x[0] == \"insert\":\n",
    "        Liste.insert(int(x[1]), int(x[2]))\n",
    "     elif x[0] == \"print\":\n",
    "        print(Liste)\n",
    "     elif x[0] == \"remove\":\n",
    "        Liste.remove(int(x[1]))\n",
    "     elif x[0] == \"append\":\n",
    "        Liste.append(int(x[1]))\n",
    "     elif x[0] == \"sort\":\n",
    "        Liste.sort()\n",
    "     elif x[0] == \"pop\":\n",
    "        Liste.pop()\n",
    "     elif x[0] == \"reverse\":\n",
    "        Liste.reverse()\n",
    "         \n"
   ]
  },
  {
   "cell_type": "markdown",
   "id": "8c19e881",
   "metadata": {},
   "source": [
    "#### Tuples "
   ]
  },
  {
   "cell_type": "code",
   "execution_count": null,
   "id": "fdd65ba8",
   "metadata": {},
   "outputs": [],
   "source": [
    "if __name__ == '__main__':\n",
    "    n = int(input())\n",
    "    integer_list = map(int, input().split())\n",
    "    \n",
    "    \n",
    "    T=tuple(integer_list)\n",
    "    print(hash(T))\n"
   ]
  },
  {
   "cell_type": "markdown",
   "id": "7c369b6e",
   "metadata": {},
   "source": [
    "#### Mutations"
   ]
  },
  {
   "cell_type": "code",
   "execution_count": null,
   "id": "b5bddcbb",
   "metadata": {},
   "outputs": [],
   "source": [
    "def mutate_string(string, position, character):\n",
    "    a= string[:position]+character+string[position+1:]\n",
    "    return a\n",
    "\n"
   ]
  },
  {
   "cell_type": "markdown",
   "id": "0391b5f8",
   "metadata": {},
   "source": [
    "#### Find a string"
   ]
  },
  {
   "cell_type": "code",
   "execution_count": null,
   "id": "03f427d8",
   "metadata": {},
   "outputs": [],
   "source": [
    "def count_substring(string, sub_string):\n",
    "    list=[]\n",
    "    n=0\n",
    "    while n<len(string)-len(sub_string)+1:\n",
    "        list.append(string[n:n+len(sub_string)])\n",
    "        n=n+1\n",
    "    count=0\n",
    "    for i in list:\n",
    "        if i==sub_string:\n",
    "            count+=1\n",
    "    return count\n",
    "    \n",
    "\n"
   ]
  },
  {
   "cell_type": "markdown",
   "id": "68e54633",
   "metadata": {},
   "source": [
    "#### String Validators"
   ]
  },
  {
   "cell_type": "code",
   "execution_count": null,
   "id": "952b5025",
   "metadata": {},
   "outputs": [],
   "source": [
    "if __name__ == '__main__':\n",
    "    s = input()\n",
    "  \n",
    "print(any([i.isalnum() for i in s]))\n",
    "print(any([i.isalpha() for i in s]))\n",
    "print(any([i.isdigit() for i in s]))\n",
    "print(any([i.islower() for i in s]))\n",
    "print(any([i.isupper() for i in s]))\n"
   ]
  },
  {
   "cell_type": "markdown",
   "id": "07a6fbad",
   "metadata": {},
   "source": [
    "#### Text Alignment"
   ]
  },
  {
   "cell_type": "code",
   "execution_count": null,
   "id": "dd187f37",
   "metadata": {},
   "outputs": [],
   "source": [
    "#Replace all ______ with rjust, ljust or center. \n",
    "\n",
    "thickness = int(input()) #This must be an odd number\n",
    "c = 'H'\n",
    "\n",
    "#Top Cone\n",
    "for i in range(thickness):\n",
    "    print((c*i).rjust(thickness-1)+c+(c*i).ljust(thickness-1))\n",
    "\n",
    "#Top Pillars\n",
    "for i in range(thickness+1):\n",
    "    print((c*thickness).center(thickness*2)+(c*thickness).center(thickness*6))\n",
    "\n",
    "#Middle Belt\n",
    "for i in range((thickness+1)//2):\n",
    "    print((c*thickness*5).center(thickness*6))    \n",
    "\n",
    "#Bottom Pillars\n",
    "for i in range(thickness+1):\n",
    "    print((c*thickness).center(thickness*2)+(c*thickness).center(thickness*6))    \n",
    "\n",
    "#Bottom Cone\n",
    "for i in range(thickness):\n",
    "    print(((c*(thickness-i-1)).rjust(thickness)+c+(c*(thickness-i-1)).ljust(thickness)).rjust(thickness*6))\n"
   ]
  },
  {
   "cell_type": "markdown",
   "id": "9be81d8e",
   "metadata": {},
   "source": [
    "#### Text Wrap"
   ]
  },
  {
   "cell_type": "code",
   "execution_count": null,
   "id": "c993f1d6",
   "metadata": {},
   "outputs": [],
   "source": [
    "\n",
    "\n",
    "def wrap(string, max_width):\n",
    "    i=textwrap.wrap(string,max_width)\n",
    "    string=\"\"\n",
    "    for x in i:\n",
    "        string  += x + \"\\n\"\n",
    "    return string\n"
   ]
  },
  {
   "cell_type": "markdown",
   "id": "ae8d6a05",
   "metadata": {},
   "source": [
    "#### Text Wrap"
   ]
  },
  {
   "cell_type": "code",
   "execution_count": null,
   "id": "5af628a8",
   "metadata": {},
   "outputs": [],
   "source": [
    "\n",
    "\n",
    "def wrap(string, max_width):\n",
    "    i=textwrap.wrap(string,max_width)\n",
    "    string=\"\"\n",
    "    for x in i:\n",
    "        string  += x + \"\\n\"\n",
    "    return string\n"
   ]
  },
  {
   "cell_type": "markdown",
   "id": "779e1d1a",
   "metadata": {},
   "source": [
    "#### String Formatting"
   ]
  },
  {
   "cell_type": "code",
   "execution_count": null,
   "id": "9a26592f",
   "metadata": {},
   "outputs": [],
   "source": [
    "def print_formatted(number):\n",
    "    # your code goes here\n",
    "    length = len(bin(number)) - 2\n",
    "    for i in range(1, number + 1):\n",
    "        print(str(i).rjust(length), end=\"\")\n",
    "        print(\" \", end = \"\")\n",
    "        print(oct(i)[2:].rjust(length), end=\"\")\n",
    "        print(\" \", end = \"\")\n",
    "        print(hex(i)[2:].rjust(length).upper(), end=\"\")\n",
    "        print(\" \", end = \"\")\n",
    "        print(bin(i)[2:].rjust(length))\n"
   ]
  },
  {
   "cell_type": "markdown",
   "id": "6cb7b29f",
   "metadata": {},
   "source": [
    "#### Birthday Cake Candles"
   ]
  },
  {
   "cell_type": "code",
   "execution_count": null,
   "id": "933807c5",
   "metadata": {},
   "outputs": [],
   "source": [
    "#!/bin/python3\n",
    "\n",
    "import math\n",
    "import os\n",
    "import random\n",
    "import re\n",
    "import sys\n",
    "\n",
    "#\n",
    "# Complete the 'birthdayCakeCandles' function below.\n",
    "#\n",
    "# The function is expected to return an INTEGER.\n",
    "# The function accepts INTEGER_ARRAY candles as parameter.\n",
    "#\n",
    "\n",
    "def birthdayCakeCandles(candles):\n",
    "    liste=list(candles)\n",
    "    maximum=max(liste)\n",
    "    x=liste.count(maximum)\n",
    "    return(x)\n",
    " \n",
    "if __name__ == '__main__':\n",
    "    fptr = open(os.environ['OUTPUT_PATH'], 'w')\n",
    "\n",
    "    candles_count = int(input().strip())\n",
    "\n",
    "    candles = list(map(int, input().rstrip().split()))\n",
    "\n",
    "    result = birthdayCakeCandles(candles)\n",
    "\n",
    "    fptr.write(str(result) + '\\n')\n",
    "\n",
    "    fptr.close()\n"
   ]
  },
  {
   "cell_type": "markdown",
   "id": "ca8f38d4",
   "metadata": {},
   "source": [
    "#### Number Line Jumps"
   ]
  },
  {
   "cell_type": "code",
   "execution_count": null,
   "id": "66f60072",
   "metadata": {},
   "outputs": [],
   "source": [
    "#!/bin/python3\n",
    "\n",
    "import math\n",
    "import os\n",
    "import random\n",
    "import re\n",
    "import sys\n",
    "\n",
    "#\n",
    "# Complete the 'kangaroo' function below.\n",
    "#\n",
    "# The function is expected to return a STRING.\n",
    "# The function accepts following parameters:\n",
    "#  1. INTEGER x1\n",
    "#  2. INTEGER v1\n",
    "#  3. INTEGER x2\n",
    "#  4. INTEGER v2\n",
    "#\n",
    "\n",
    "def kangaroo(x1, v1, x2, v2):\n",
    "    # Write your code here\n",
    "    liste=[]\n",
    "    for n in range(0,10000):\n",
    "        if (x1+(n*v1))==(x2+(n*v2)):\n",
    "            liste.append(\"x\")    \n",
    "    if len(liste)==0:\n",
    "        x=\"NO\"\n",
    "    else:\n",
    "        x=\"YES\"    \n",
    "    return x\n",
    "\n",
    "if __name__ == '__main__':\n",
    "    fptr = open(os.environ['OUTPUT_PATH'], 'w')\n",
    "\n",
    "    first_multiple_input = input().rstrip().split()\n",
    "\n",
    "    x1 = int(first_multiple_input[0])\n",
    "\n",
    "    v1 = int(first_multiple_input[1])\n",
    "\n",
    "    x2 = int(first_multiple_input[2])\n",
    "\n",
    "    v2 = int(first_multiple_input[3])\n",
    "\n",
    "    result = kangaroo(x1, v1, x2, v2)\n",
    "\n",
    "    fptr.write(result + '\\n')\n",
    "\n",
    "    fptr.close()\n"
   ]
  },
  {
   "cell_type": "markdown",
   "id": "c27374a5",
   "metadata": {},
   "source": [
    "#### Number Line Jumps"
   ]
  },
  {
   "cell_type": "code",
   "execution_count": null,
   "id": "b323d965",
   "metadata": {},
   "outputs": [],
   "source": [
    "#!/bin/python3\n",
    "\n",
    "import math\n",
    "import os\n",
    "import random\n",
    "import re\n",
    "import sys\n",
    "\n",
    "#\n",
    "# Complete the 'kangaroo' function below.\n",
    "#\n",
    "# The function is expected to return a STRING.\n",
    "# The function accepts following parameters:\n",
    "#  1. INTEGER x1\n",
    "#  2. INTEGER v1\n",
    "#  3. INTEGER x2\n",
    "#  4. INTEGER v2\n",
    "#\n",
    "\n",
    "def kangaroo(x1, v1, x2, v2):\n",
    "    # Write your code here\n",
    "    liste=[]\n",
    "    for n in range(0,10000):\n",
    "        if (x1+(n*v1))==(x2+(n*v2)):\n",
    "            liste.append(\"x\")    \n",
    "    if len(liste)==0:\n",
    "        x=\"NO\"\n",
    "    else:\n",
    "        x=\"YES\"    \n",
    "    return x\n",
    "\n",
    "if __name__ == '__main__':\n",
    "    fptr = open(os.environ['OUTPUT_PATH'], 'w')\n",
    "\n",
    "    first_multiple_input = input().rstrip().split()\n",
    "\n",
    "    x1 = int(first_multiple_input[0])\n",
    "\n",
    "    v1 = int(first_multiple_input[1])\n",
    "\n",
    "    x2 = int(first_multiple_input[2])\n",
    "\n",
    "    v2 = int(first_multiple_input[3])\n",
    "\n",
    "    result = kangaroo(x1, v1, x2, v2)\n",
    "\n",
    "    fptr.write(result + '\\n')\n",
    "\n",
    "    fptr.close()\n"
   ]
  },
  {
   "cell_type": "markdown",
   "id": "5bdd13d6",
   "metadata": {},
   "source": [
    "#### Viral Advertising"
   ]
  },
  {
   "cell_type": "code",
   "execution_count": null,
   "id": "e89c3dd3",
   "metadata": {},
   "outputs": [],
   "source": [
    "#!/bin/python3\n",
    "\n",
    "import math\n",
    "import os\n",
    "import random\n",
    "import re\n",
    "import sys\n",
    "\n",
    "#\n",
    "# Complete the 'viralAdvertising' function below.\n",
    "#\n",
    "# The function is expected to return an INTEGER.\n",
    "# The function accepts INTEGER n as parameter.\n",
    "#\n",
    "\n",
    "def viralAdvertising(n):\n",
    "    i=0\n",
    "    cumulative_likes=0\n",
    "    new_likes=0\n",
    "    while i < n:\n",
    "        if i==0:\n",
    "            people=5\n",
    "        else:\n",
    "            people=new_likes*3\n",
    "        new_likes=people//2\n",
    "        cumulative_likes=cumulative_likes+new_likes\n",
    "        i=i+1\n",
    "    return cumulative_likes\n",
    "    \n",
    "\n",
    "if __name__ == '__main__':\n",
    "    fptr = open(os.environ['OUTPUT_PATH'], 'w')\n",
    "\n",
    "    n = int(input().strip())\n",
    "\n",
    "    result = viralAdvertising(n)\n",
    "\n",
    "    fptr.write(str(result) + '\\n')\n",
    "\n",
    "    fptr.close()\n"
   ]
  },
  {
   "cell_type": "markdown",
   "id": "ff38aace",
   "metadata": {},
   "source": [
    "#### Python: Division"
   ]
  },
  {
   "cell_type": "code",
   "execution_count": null,
   "id": "1b29a6d3",
   "metadata": {},
   "outputs": [],
   "source": [
    "if __name__ == '__main__':\n",
    "    a = int(input())\n",
    "    b = int(input())\n",
    "    print (a//b)\n",
    "    print (a/b)\n",
    "    \n"
   ]
  },
  {
   "cell_type": "markdown",
   "id": "ce5e0bbe",
   "metadata": {},
   "source": [
    "#### Introduction to Sets"
   ]
  },
  {
   "cell_type": "code",
   "execution_count": null,
   "id": "cfd0a433",
   "metadata": {},
   "outputs": [],
   "source": [
    "def average(array):\n",
    "    x=set(array)\n",
    "    y=sum(x)\n",
    "    return y/len(x)\n"
   ]
  },
  {
   "cell_type": "markdown",
   "id": "6875cccf",
   "metadata": {},
   "source": [
    "#### Symmetric Difference"
   ]
  },
  {
   "cell_type": "code",
   "execution_count": null,
   "id": "14fabfcf",
   "metadata": {},
   "outputs": [],
   "source": [
    "seta_size=input()\n",
    "first_set=set(map(int,input().split()))\n",
    "setb_size=input()\n",
    "second_set=set(map(int,input().split()))\n",
    "\n",
    "liste=list(first_set.intersection(second_set))\n",
    "returne=(first_set.union(second_set))\n",
    "for i in liste:\n",
    "    returne.remove(i)\n",
    "returne=list(returne)\n",
    "q=\"\"\n",
    "for i in sorted(returne,reverse=False):\n",
    " q=q+str(i)+\"\\n\"\n",
    "print(q)\n"
   ]
  },
  {
   "cell_type": "markdown",
   "id": "f9422859",
   "metadata": {},
   "source": [
    "#### No Idea!"
   ]
  },
  {
   "cell_type": "code",
   "execution_count": null,
   "id": "b77b6732",
   "metadata": {},
   "outputs": [],
   "source": [
    "n,m=input().split()\n",
    "ele=list(map(int,input().split()))\n",
    "A=set(map(int,input().split()))\n",
    "B=set(map(int,input().split()))\n",
    "happiness=0\n",
    "for i in ele:\n",
    "    if i in A:\n",
    "        happiness+=1\n",
    "    if i in B:\n",
    "        happiness=happiness-1\n",
    "print(happiness)\n"
   ]
  },
  {
   "cell_type": "markdown",
   "id": "94d1a8e5",
   "metadata": {},
   "source": [
    "#### Set .add() "
   ]
  },
  {
   "cell_type": "code",
   "execution_count": null,
   "id": "8ba43e25",
   "metadata": {},
   "outputs": [],
   "source": [
    "def inputal(ilk):\n",
    "    listeler=[]\n",
    "    for i in range(int(ilk)):\n",
    "        listeler.append(\"input\"+str(i))\n",
    "    return listeler    \n",
    "\n",
    "liste=inputal(input())\n",
    "inputlist=[]  \n",
    "for i in liste:\n",
    "    i=input()\n",
    "    inputlist.append(i)\n",
    "\n",
    "print(len(set(inputlist)))\n"
   ]
  },
  {
   "cell_type": "markdown",
   "id": "783b46dc",
   "metadata": {},
   "source": [
    "#### Set .discard(), .remove() & .pop()"
   ]
  },
  {
   "cell_type": "code",
   "execution_count": null,
   "id": "c78be82e",
   "metadata": {},
   "outputs": [],
   "source": [
    "n = int(input()) \n",
    "s=set(map(int,input().split()))\n",
    "Numara = int(input()) \n",
    "for i in range(0,Numara):\n",
    "    numara = input().split()\n",
    "    if numara[0] == \"pop\":\n",
    "        if len(s) > 0:\n",
    "            s.pop()\n",
    "    elif numara[0] == \"remove\":\n",
    "        if int(numara[1]) in s:\n",
    "            s.remove(int(numara[1]))\n",
    "    elif numara[0] == \"discard\":\n",
    "        s.discard(int(numara[1]))\n",
    "print(sum(s))\n"
   ]
  },
  {
   "cell_type": "markdown",
   "id": "b75ce6f1",
   "metadata": {},
   "source": [
    "#### Set .union() Operation"
   ]
  },
  {
   "cell_type": "code",
   "execution_count": null,
   "id": "10039439",
   "metadata": {},
   "outputs": [],
   "source": [
    "g=input()\n",
    "eng=set(input().split())\n",
    "z= input()\n",
    "fre= set(input().split())\n",
    "\n",
    "print(len(eng.union(fre)))\n"
   ]
  },
  {
   "cell_type": "markdown",
   "id": "8ad9cfc0",
   "metadata": {},
   "source": [
    "#### Set .intersection() Operation"
   ]
  },
  {
   "cell_type": "code",
   "execution_count": null,
   "id": "c40e0c1d",
   "metadata": {},
   "outputs": [],
   "source": [
    "g=input()\n",
    "eng=set(input().split())\n",
    "z= input()\n",
    "fre= set(input().split())\n",
    "\n",
    "print(len(eng.intersection(fre)))\n"
   ]
  },
  {
   "cell_type": "markdown",
   "id": "c077ee0f",
   "metadata": {},
   "source": [
    "#### Set .difference() Operation"
   ]
  },
  {
   "cell_type": "code",
   "execution_count": null,
   "id": "5a321d49",
   "metadata": {},
   "outputs": [],
   "source": [
    "g=input()\n",
    "eng=set(input().split())\n",
    "z= input()\n",
    "fre= set(input().split())\n",
    "\n",
    "print(len(eng.difference(fre)))\n"
   ]
  },
  {
   "cell_type": "markdown",
   "id": "440b2f82",
   "metadata": {},
   "source": [
    "#### Set .difference() Operation"
   ]
  },
  {
   "cell_type": "code",
   "execution_count": null,
   "id": "8cb6a2cf",
   "metadata": {},
   "outputs": [],
   "source": [
    "g=input()\n",
    "eng=set(input().split())\n",
    "z= input()\n",
    "fre= set(input().split())\n",
    "\n",
    "print(len(eng.difference(fre)))\n"
   ]
  },
  {
   "cell_type": "markdown",
   "id": "8a4bee03",
   "metadata": {},
   "source": [
    "#### Set .symmetric_difference() Operation"
   ]
  },
  {
   "cell_type": "code",
   "execution_count": null,
   "id": "7eb384f9",
   "metadata": {},
   "outputs": [],
   "source": [
    "g=input()\n",
    "eng=set(input().split())\n",
    "z= input()\n",
    "fre= set(input().split())\n",
    "\n",
    "print(len(eng.union(fre)-eng.intersection(fre)))\n"
   ]
  },
  {
   "cell_type": "markdown",
   "id": "776eaf10",
   "metadata": {},
   "source": [
    "#### Set .symmetric_difference() Operation"
   ]
  },
  {
   "cell_type": "code",
   "execution_count": null,
   "id": "9001eedc",
   "metadata": {},
   "outputs": [],
   "source": [
    "g=input()\n",
    "eng=set(input().split())\n",
    "z= input()\n",
    "fre= set(input().split())\n",
    "\n",
    "print(len(eng.union(fre)-eng.intersection(fre)))\n",
    "#print(len(eng.symmetric=differance(fre)))\n"
   ]
  },
  {
   "cell_type": "markdown",
   "id": "8028ad35",
   "metadata": {},
   "source": [
    "#### Set .symmetric_difference() Operation"
   ]
  },
  {
   "cell_type": "code",
   "execution_count": null,
   "id": "43dd166c",
   "metadata": {},
   "outputs": [],
   "source": [
    "g=input()\n",
    "eng=set(input().split())\n",
    "z= input()\n",
    "fre= set(input().split())\n",
    "\n",
    "print(len(eng.union(fre)-eng.intersection(fre)))\n",
    "#print(len(eng.symmetric=differance(fre)))\n"
   ]
  },
  {
   "cell_type": "markdown",
   "id": "934f29c3",
   "metadata": {},
   "source": [
    "#### Set Mutations"
   ]
  },
  {
   "cell_type": "code",
   "execution_count": null,
   "id": "8171de2e",
   "metadata": {},
   "outputs": [],
   "source": [
    "input()\n",
    "numbers = set([int(x) for x in input().split()])\n",
    "Leng = int(input())\n",
    "for _ in range(Leng):\n",
    "    c, m = input().split()\n",
    "    b = set([int(x) for x in input().split()])\n",
    "    if c[0] == \"i\":\n",
    "        numbers =numbers&b\n",
    "    elif c[0] == \"u\":\n",
    "        numbers = numbers|b\n",
    "    elif c[0] == \"d\":\n",
    "        numbers = numbers -b\n",
    "    else:\n",
    "        numbers =numbers^b\n",
    "print(sum(numbers))\n"
   ]
  },
  {
   "cell_type": "markdown",
   "id": "41e16c52",
   "metadata": {},
   "source": [
    "#### Set Mutations"
   ]
  },
  {
   "cell_type": "code",
   "execution_count": null,
   "id": "f1100dab",
   "metadata": {},
   "outputs": [],
   "source": [
    "input()\n",
    "numbers = set([int(x) for x in input().split()])\n",
    "Leng = int(input())\n",
    "for _ in range(Leng):\n",
    "    c, m = input().split()\n",
    "    b = set([int(x) for x in input().split()])\n",
    "    if c[0] == \"i\":\n",
    "        numbers =numbers&b\n",
    "    elif c[0] == \"u\":\n",
    "        numbers = numbers|b\n",
    "    elif c[0] == \"d\":\n",
    "        numbers = numbers -b\n",
    "    else:\n",
    "        numbers =numbers^b\n",
    "print(sum(numbers))\n"
   ]
  },
  {
   "cell_type": "markdown",
   "id": "20d8db66",
   "metadata": {},
   "source": [
    "#### Set Mutations"
   ]
  },
  {
   "cell_type": "code",
   "execution_count": null,
   "id": "41df8ecd",
   "metadata": {},
   "outputs": [],
   "source": [
    "input()\n",
    "numbers = set([int(x) for x in input().split()])\n",
    "Leng = int(input())\n",
    "for _ in range(Leng):\n",
    "    c, m = input().split()\n",
    "    b = set([int(x) for x in input().split()])\n",
    "    if c[0] == \"i\":\n",
    "        numbers =numbers&b\n",
    "    elif c[0] == \"u\":\n",
    "        numbers = numbers|b\n",
    "    elif c[0] == \"d\":\n",
    "        numbers = numbers -b\n",
    "    else:\n",
    "        numbers =numbers^b\n",
    "print(sum(numbers))\n"
   ]
  },
  {
   "cell_type": "markdown",
   "id": "594fad19",
   "metadata": {},
   "source": [
    "#### Check Subset"
   ]
  },
  {
   "cell_type": "code",
   "execution_count": null,
   "id": "307873af",
   "metadata": {},
   "outputs": [],
   "source": [
    "numbers=int(input())\n",
    "for i in range(numbers):\n",
    "    a = int(input())\n",
    "    A = set(input().split()); \n",
    "    b = int(input())\n",
    "    B = set(input().split());\n",
    "    \n",
    "    print (A <= B)\n",
    "            \n"
   ]
  },
  {
   "cell_type": "markdown",
   "id": "e14a7bf7",
   "metadata": {},
   "source": [
    "#### Shape and Reshape"
   ]
  },
  {
   "cell_type": "code",
   "execution_count": null,
   "id": "5d4dcbde",
   "metadata": {},
   "outputs": [],
   "source": [
    "import numpy \n",
    "\n",
    "array1=list(map(int,(input().split())))\n",
    "first_array=   numpy.array(array1)\n",
    "first_array.shape=(3,3)\n",
    "print(first_array)\n"
   ]
  },
  {
   "cell_type": "markdown",
   "id": "1dc7d92f",
   "metadata": {},
   "source": [
    "#### Shape and Reshape"
   ]
  },
  {
   "cell_type": "code",
   "execution_count": null,
   "id": "7bd7408f",
   "metadata": {},
   "outputs": [],
   "source": [
    "import numpy \n",
    "\n",
    "array1=list(map(int,(input().split())))\n",
    "first_array=   numpy.array(array1)\n",
    "first_array.shape=(3,3)\n",
    "print(first_array)\n"
   ]
  },
  {
   "cell_type": "markdown",
   "id": "14457b27",
   "metadata": {},
   "source": [
    "#### Transpose and Flatten"
   ]
  },
  {
   "cell_type": "code",
   "execution_count": null,
   "id": "b217f8ea",
   "metadata": {},
   "outputs": [],
   "source": [
    "import numpy as np\n",
    "n,m=map(int,input().split())\n",
    "liste1=np.array(([input().split()for i in range(n)]))\n",
    "liste=liste1.astype(np.int)\n",
    "trans=np.transpose(liste)\n",
    "flat=liste.flatten()\n",
    "\n",
    "print(trans)\n",
    "print(flat)\n"
   ]
  },
  {
   "cell_type": "markdown",
   "id": "5489ca0b",
   "metadata": {},
   "source": [
    "#### Zeros and Ones"
   ]
  },
  {
   "cell_type": "code",
   "execution_count": null,
   "id": "267502c7",
   "metadata": {},
   "outputs": [],
   "source": [
    "import numpy\n",
    "a=tuple(map(int,input().split()))\n",
    "aa=numpy.zeros(a)\n",
    "bb=numpy.ones(a)\n",
    "printa=aa.astype(numpy.int)\n",
    "printb=bb.astype(numpy.int)\n",
    "print(printa)\n",
    "print(printb)\n",
    "    \n",
    "\n",
    "\n"
   ]
  },
  {
   "cell_type": "markdown",
   "id": "b6478d8b",
   "metadata": {},
   "source": [
    "#### Eye and Identity"
   ]
  },
  {
   "cell_type": "code",
   "execution_count": null,
   "id": "121b03a2",
   "metadata": {},
   "outputs": [],
   "source": [
    "import numpy;numpy.set_printoptions(legacy='1.13')#took years\n",
    "a,b=map(int,input().split())\n",
    "\n",
    "if a==b:\n",
    "    print(numpy.identity(a)) \n",
    "else:\n",
    "    print(numpy.eye(a,b))\n",
    "    \n",
    "\n",
    "    \n"
   ]
  },
  {
   "cell_type": "markdown",
   "id": "3ade5a79",
   "metadata": {},
   "source": [
    "#### Array Mathematics"
   ]
  },
  {
   "cell_type": "code",
   "execution_count": null,
   "id": "c68119fa",
   "metadata": {},
   "outputs": [],
   "source": [
    "import numpy as np\n",
    "n,m =map(int,input().split())\n",
    "x=[]\n",
    "for i in range(n):\n",
    "    x.append(list(map(int,input().split())))\n",
    "y=[]\n",
    "for i in range(n):\n",
    "    y.append(list(map(int,input().split())))\n",
    "\n",
    "\n",
    "\n",
    "print(np.add(x,y))\n",
    "print(np.subtract(x,y))\n",
    "print(np.multiply(x,y))\n",
    "div = np.divide(x,y)\n",
    "print(np.array(div, dtype = np.int))\n",
    "print(np.mod(x,y))\n",
    "print(np.power(x,y))\n"
   ]
  },
  {
   "cell_type": "markdown",
   "id": "d734c482",
   "metadata": {},
   "source": [
    "#### Floor, Ceil and Rint"
   ]
  },
  {
   "cell_type": "code",
   "execution_count": null,
   "id": "2673f4c0",
   "metadata": {},
   "outputs": [],
   "source": [
    "import numpy as np\n",
    "np.set_printoptions(legacy=\"1.13\")\n",
    "x=list(map(float,input().split()))\n",
    "\n",
    "print (np.floor(x) \n",
    ")   \n",
    "print (np.ceil(x) ) \n",
    "print (np.rint(x))  \n"
   ]
  },
  {
   "cell_type": "markdown",
   "id": "06b574e8",
   "metadata": {},
   "source": [
    "#### Sum and Prod"
   ]
  },
  {
   "cell_type": "code",
   "execution_count": null,
   "id": "f3dea865",
   "metadata": {},
   "outputs": [],
   "source": [
    "import numpy\n",
    "n,m=input().split()\n",
    "n=int(n)\n",
    "m=int(m)\n",
    "integers=[]\n",
    "for i in range(n):\n",
    "    integers.append(list(map(int,input().split())))\n",
    "arr=numpy.array(integers)\n",
    "arr=numpy.sum(arr,axis=0)\n",
    "arr=numpy.prod(arr,axis=0)\n",
    "print(arr)\n"
   ]
  },
  {
   "cell_type": "markdown",
   "id": "97f26448",
   "metadata": {},
   "source": [
    "#### Min and Max"
   ]
  },
  {
   "cell_type": "code",
   "execution_count": null,
   "id": "1dc33364",
   "metadata": {},
   "outputs": [],
   "source": [
    "import numpy\n",
    "n,m=input().split()\n",
    "n=int(n)\n",
    "m=int(m)\n",
    "liste=[]\n",
    "for i in range(n):\n",
    "    liste.append(list(map(int,input().split())))\n",
    "arr=numpy.array(liste)\n",
    "arr=numpy.min(arr,axis=1)\n",
    "print(numpy.max(arr))\n"
   ]
  },
  {
   "cell_type": "markdown",
   "id": "01760cda",
   "metadata": {},
   "source": [
    "#### Mean, Var, and Std"
   ]
  },
  {
   "cell_type": "code",
   "execution_count": null,
   "id": "529a63e7",
   "metadata": {},
   "outputs": [],
   "source": [
    "import numpy\n",
    "n,m=input().split()\n",
    "n=int(n)\n",
    "m=int(m)\n",
    "liste=[]\n",
    "for i in range(n):\n",
    "    liste.append(list(map(int,input().split())))\n",
    "arr=numpy.array(liste)\n",
    "print (numpy.mean(arr, axis = 1))         \n",
    "print (numpy.var(arr, axis = 0))\n",
    "if n==2:\n",
    "        print(format(float(numpy.std(arr)),\".11f\"))\n",
    "else:\n",
    "        print(numpy.std(arr))\n"
   ]
  },
  {
   "cell_type": "markdown",
   "id": "dac36b21",
   "metadata": {},
   "source": [
    "#### Dot and Cross"
   ]
  },
  {
   "cell_type": "code",
   "execution_count": null,
   "id": "f9d87c2a",
   "metadata": {},
   "outputs": [],
   "source": [
    "import numpy\n",
    "n=list(map(int,input().split()))\n",
    "n=n[0]\n",
    "listeA=[]\n",
    "for i in range(n):\n",
    "    listeA.append(list(map(int,input().split())))\n",
    "listeB=[]\n",
    "for i in range(n):\n",
    "    listeB.append(list(map(int,input().split())))\n",
    "        \n",
    "A=numpy.array(listeA)\n",
    "B=numpy.array(listeB)\n",
    "\n",
    "print (numpy.dot(A, B))  \n"
   ]
  },
  {
   "cell_type": "markdown",
   "id": "84e22fe6",
   "metadata": {},
   "source": [
    "#### Inner and Outer"
   ]
  },
  {
   "cell_type": "code",
   "execution_count": null,
   "id": "f5a5b67d",
   "metadata": {},
   "outputs": [],
   "source": [
    "import numpy\n",
    "A=[int(i) for i in input().split()]\n",
    "B=[int(i) for i in input().split()]\n",
    "print (numpy.inner(A, B))      \n",
    "print (numpy.outer(A, B))      \n"
   ]
  },
  {
   "cell_type": "markdown",
   "id": "def2e635",
   "metadata": {},
   "source": [
    "#### Concatenate"
   ]
  },
  {
   "cell_type": "code",
   "execution_count": null,
   "id": "94170f4e",
   "metadata": {},
   "outputs": [],
   "source": [
    "import numpy\n",
    "n,m,p=input().split()\n",
    "n=int(n)\n",
    "m=int(m)\n",
    "p=int(p)\n",
    "arr1=[]\n",
    "for i in range(n):\n",
    "    arr1.append(input().split())\n",
    "arr2=[]\n",
    "for i in range(m):\n",
    "    arr2.append(input().split())\n",
    "A=numpy.array(arr1)\n",
    "B=numpy.array(arr2)\n",
    "X=numpy.concatenate((A,B),axis=0)\n",
    "X=X.astype(numpy.int)\n",
    "\n",
    "print(X)\n",
    "\n"
   ]
  },
  {
   "cell_type": "markdown",
   "id": "37f39c9b",
   "metadata": {},
   "source": [
    "#### Polynomials"
   ]
  },
  {
   "cell_type": "code",
   "execution_count": null,
   "id": "e46c8833",
   "metadata": {},
   "outputs": [],
   "source": [
    "C=input().split()\n",
    "C=[eval(i)for i in C]\n",
    "p=int(input())\n",
    "sonuc=0\n",
    "for i in range(len(C)):\n",
    "    sonuc+=(p**i)*C[-i-1]\n",
    "print(float(sonuc))\n"
   ]
  },
  {
   "cell_type": "markdown",
   "id": "a382b4ba",
   "metadata": {},
   "source": [
    "#### Polynomials"
   ]
  },
  {
   "cell_type": "code",
   "execution_count": null,
   "id": "7a3d97f5",
   "metadata": {},
   "outputs": [],
   "source": [
    "C=input().split()\n",
    "C=[eval(i)for i in C]\n",
    "p=int(input())\n",
    "sonuc=0\n",
    "for i in range(len(C)):\n",
    "    sonuc+=(p**i)*C[-i-1]\n",
    "print(float(sonuc))\n"
   ]
  },
  {
   "cell_type": "markdown",
   "id": "2ca0e77c",
   "metadata": {},
   "source": [
    "#### Linear Algebra"
   ]
  },
  {
   "cell_type": "code",
   "execution_count": null,
   "id": "a43503c8",
   "metadata": {},
   "outputs": [],
   "source": [
    "import numpy\n",
    "N=list(map(int,input().split()))\n",
    "N=N[0]\n",
    "A=[]\n",
    "\n",
    "for i in range (N):\n",
    "    A.append(list(map(float,input().split())))\n",
    "\n",
    "son=numpy.linalg.det(A)\n",
    "\n",
    "print(numpy.around(son,2))\n"
   ]
  },
  {
   "cell_type": "markdown",
   "id": "247874f6",
   "metadata": {},
   "source": [
    "#### Nested Lists"
   ]
  },
  {
   "cell_type": "code",
   "execution_count": null,
   "id": "58904852",
   "metadata": {},
   "outputs": [],
   "source": [
    "if __name__ == '__main__':\n",
    " name=[]\n",
    " score=[]\n",
    "for i in range(int(input())):\n",
    "        name.append(input().split())\n",
    "        score.append(float(input()))\n",
    "        \n",
    "score1=score.copy()        \n",
    "\n",
    "x=0\n",
    "for i in score:\n",
    "    name[x].append(i)\n",
    "    x=x+1\n",
    "    \n",
    "mini=min(score)\n",
    "while mini in score:\n",
    "    for i in score:\n",
    "        if i==mini:\n",
    "            score.remove(i)\n",
    "yazdir = [i for i, x in enumerate(score1) if x == min(score)]\n",
    "\n",
    "yeni=[name[i][0] for i in yazdir]\n",
    "for i in sorted(yeni):\n",
    "    print(i)\n",
    "\n"
   ]
  },
  {
   "cell_type": "markdown",
   "id": "2d9b42eb",
   "metadata": {},
   "source": [
    "#### What's Your Name?"
   ]
  },
  {
   "cell_type": "code",
   "execution_count": null,
   "id": "0d341d82",
   "metadata": {},
   "outputs": [],
   "source": [
    "#\n",
    "# Complete the 'print_full_name' function below.\n",
    "#\n",
    "# The function is expected to return a STRING.\n",
    "# The function accepts following parameters:\n",
    "#  1. STRING first\n",
    "#  2. STRING last\n",
    "#\n",
    "\n",
    "def print_full_name(first, last):\n",
    "    print(\"Hello \"+first+\" \"+last+\"! You just delved into python.\" )\n"
   ]
  },
  {
   "cell_type": "markdown",
   "id": "dc060159",
   "metadata": {},
   "source": [
    "#### What's Your Name?"
   ]
  },
  {
   "cell_type": "code",
   "execution_count": null,
   "id": "176f231e",
   "metadata": {},
   "outputs": [],
   "source": [
    "#\n",
    "# Complete the 'print_full_name' function below.\n",
    "#\n",
    "# The function is expected to return a STRING.\n",
    "# The function accepts following parameters:\n",
    "#  1. STRING first\n",
    "#  2. STRING last\n",
    "#\n",
    "\n",
    "def print_full_name(first, last):\n",
    "    print(\"Hello \"+first+\" \"+last+\"! You just delved into python.\" )\n"
   ]
  },
  {
   "cell_type": "markdown",
   "id": "14870c43",
   "metadata": {},
   "source": [
    "#### Check Strict Superset"
   ]
  },
  {
   "cell_type": "code",
   "execution_count": null,
   "id": "def0da8d",
   "metadata": {},
   "outputs": [],
   "source": [
    "A=set(map(int,input().split()))\n",
    "n=input().split()\n",
    "n=int(n[0])\n",
    "\n",
    "liste=[]\n",
    "for i in range(n):\n",
    "    liste.append(set(map(int,input().split())))\n",
    "TrueFalse=[]\n",
    "for i in liste:\n",
    "    if i.issubset(A):\n",
    "        if i!=A:\n",
    "            TrueFalse.append(True)\n",
    "    else:\n",
    "         TrueFalse.append(False)\n",
    "            \n",
    "x=0\n",
    "for i in TrueFalse:\n",
    "    if i==True:\n",
    "        x+=1\n",
    "        \n",
    "if x==n:\n",
    "    print(True)\n",
    "else:\n",
    "    print(False)\n"
   ]
  },
  {
   "cell_type": "markdown",
   "id": "7afb8702",
   "metadata": {},
   "source": [
    "#### Designer Door Mat"
   ]
  },
  {
   "cell_type": "code",
   "execution_count": null,
   "id": "50b0caee",
   "metadata": {},
   "outputs": [],
   "source": [
    "n,m=(input().split())\n",
    "n=int(n)\n",
    "m=int(m)\n",
    "for i in range(1,n,2): \n",
    "    print(\"-\" * 3*((n-i)//2) + \".|.\"*i + \"-\" * 3*((n-i)// 2))\n",
    "print((((m-7)//2)*\"-\"+ \"WELCOME\"+((m-7)//2)*\"-\") )\n",
    "\n",
    "for i in range(n-2,-1,-2): \n",
    "    print(\"-\" * 3*((n-i)//2) + \".|.\"*i + \"-\" * 3*((n-i)// 2))\n",
    "        \n"
   ]
  },
  {
   "cell_type": "markdown",
   "id": "472c4e00",
   "metadata": {},
   "source": [
    "#### The Captain's Room "
   ]
  },
  {
   "cell_type": "code",
   "execution_count": null,
   "id": "853e9654",
   "metadata": {},
   "outputs": [],
   "source": [
    "from collections import Counter\n",
    "\n",
    "k = int(input())\n",
    "elements = list(map(int,input().split()))\n",
    "elementset=set(elements)\n",
    "\n",
    "a=Counter(elements)\n",
    "print(min(a,key=a.get))\n",
    "\n"
   ]
  },
  {
   "cell_type": "markdown",
   "id": "46ee4943",
   "metadata": {},
   "source": [
    "#### collections.Counter()"
   ]
  },
  {
   "cell_type": "code",
   "execution_count": null,
   "id": "2277926f",
   "metadata": {},
   "outputs": [],
   "source": [
    "\n",
    "from collections import Counter\n",
    "x=(input().split())\n",
    "x=int(x[0])\n",
    "shoesizes=list(map(int ,input().split()))\n",
    "sayi = Counter(shoesizes)\n",
    "para = 0\n",
    "customers=(input().split())\n",
    "customers=int(customers[0])\n",
    "for customerNumber in range(customers):\n",
    "    shoesize=list(map(int ,input().split()));\n",
    "    if (sayi.get(shoesize[0], None) !=None) :\n",
    "        shoesizes.remove(shoesize[0]);\n",
    "        para=para+shoesize[1];\n",
    "        sayi = Counter(shoesizes);\n",
    "\n",
    "print(para)\n",
    "\n",
    "\n",
    "\n",
    "\n"
   ]
  },
  {
   "cell_type": "markdown",
   "id": "1b6796dc",
   "metadata": {},
   "source": [
    "#### DefaultDict Tutorial"
   ]
  },
  {
   "cell_type": "code",
   "execution_count": null,
   "id": "c4810aca",
   "metadata": {},
   "outputs": [],
   "source": [
    "from collections import defaultdict\n",
    "\n",
    "dd = defaultdict(list)\n",
    "n, m = [int(i) for i in input().split()]\n",
    "\n",
    "for i in range(1,n+1):\n",
    "    dd[input()].append(str(i))\n",
    "\n",
    "for i in range(m):\n",
    "    inp = input()\n",
    "    if dd[inp]:\n",
    "        s = \" \".join(dd[inp])\n",
    "        print(s)\n",
    "    else:\n",
    "        print(-1)\n"
   ]
  },
  {
   "cell_type": "markdown",
   "id": "a5fffb6f",
   "metadata": {},
   "source": [
    "#### Collections.namedtuple()"
   ]
  },
  {
   "cell_type": "code",
   "execution_count": null,
   "id": "76f992de",
   "metadata": {},
   "outputs": [],
   "source": [
    "from collections import namedtuple\n",
    "x=0\n",
    "n=input()\n",
    "n=int(n)\n",
    "\n",
    "namesofcol=input().split()\n",
    "average=namedtuple(\"average\", namesofcol)\n",
    "for i in range(n):\n",
    "    allof =input().split()\n",
    "    newav =average(allof[0],allof[1],allof[2],allof[3])\n",
    "    x=x+float(newav.MARKS)\n",
    "    \n",
    "print (round((x/float(n)),3))\n"
   ]
  },
  {
   "cell_type": "markdown",
   "id": "19567e84",
   "metadata": {},
   "source": [
    "#### Collections.OrderedDict()"
   ]
  },
  {
   "cell_type": "code",
   "execution_count": null,
   "id": "da8cdb6d",
   "metadata": {},
   "outputs": [],
   "source": [
    "from collections import OrderedDict\n",
    "\n",
    "Orderedd = OrderedDict()\n",
    "N = int(input())\n",
    "\n",
    "for i in range(N):\n",
    "    nameandprice = input().split()\n",
    "    item = \" \".join(nameandprice[:-1])\n",
    "    n = int(nameandprice[-1])\n",
    "    if item in Orderedd:\n",
    "        Orderedd[item] = Orderedd[item]+ n\n",
    "    else:\n",
    "        Orderedd[item] = n\n",
    "for i in Orderedd:\n",
    "    print (i,Orderedd[i])\n"
   ]
  },
  {
   "cell_type": "markdown",
   "id": "5457d389",
   "metadata": {},
   "source": [
    "#### Word Order"
   ]
  },
  {
   "cell_type": "code",
   "execution_count": null,
   "id": "40192047",
   "metadata": {},
   "outputs": [],
   "source": [
    "from collections import OrderedDict\n",
    "\n",
    "n = int(input())\n",
    "orderedd = OrderedDict()\n",
    "\n",
    "for i in range(n):\n",
    "  aword = input()\n",
    "  if aword in orderedd:\n",
    "    orderedd[aword] += 1\n",
    "  else:\n",
    "    orderedd[aword] = 1\n",
    "    \n",
    "print(len(orderedd))\n",
    "for i in orderedd.keys():\n",
    "  print(str(orderedd[i]) + \" \", end=\"\")\n"
   ]
  },
  {
   "cell_type": "markdown",
   "id": "bcf8cb19",
   "metadata": {},
   "source": [
    "#### Collections.deque()"
   ]
  },
  {
   "cell_type": "code",
   "execution_count": null,
   "id": "2066257d",
   "metadata": {},
   "outputs": [],
   "source": [
    "from collections import deque\n",
    "n= int(input())\n",
    "deq = deque()\n",
    "for i in range(n):\n",
    "    olay= input().split()\n",
    "    if olay[0]==\"popleft\":\n",
    "        deq.popleft()\n",
    "    elif olay[0]==\"appendleft\":\n",
    "        deq.appendleft(int(olay[1]))\n",
    "    elif olay[0]==\"pop\":\n",
    "        deq.pop()\n",
    "    elif olay[0]==\"append\":\n",
    "        deq.append(int(olay[1]))\n",
    "liste=[]\n",
    "for i in deq:\n",
    "    liste.append(str(i))\n",
    "print(\" \".join(liste))\n"
   ]
  },
  {
   "cell_type": "markdown",
   "id": "fdbad5f9",
   "metadata": {},
   "source": [
    "#### Piling Up!"
   ]
  },
  {
   "cell_type": "code",
   "execution_count": null,
   "id": "9eb141a0",
   "metadata": {},
   "outputs": [],
   "source": [
    "T=int(input())\n",
    "while T>0:\n",
    "    T=T-1\n",
    "    n=int(input())\n",
    "    nu_of_cubes=list(map(int,input().split()))\n",
    "    len=0\n",
    "    \n",
    "    \n",
    "    x=0\n",
    "    y=n-1\n",
    "    if nu_of_cubes[n-1]>nu_of_cubes[0]:\n",
    "        len=nu_of_cubes[n-1]\n",
    "        y=n-2\n",
    "    else:\n",
    "        len=nu_of_cubes[0]\n",
    "        xi=1\n",
    "    while x<=y:\n",
    "        if nu_of_cubes[x]>=nu_of_cubes[y]:\n",
    "            if len<nu_of_cubes[x]:\n",
    "                break\n",
    "            len=nu_of_cubes[x]\n",
    "            x=x+1\n",
    "        else:\n",
    "            if len<nu_of_cubes[y]:\n",
    "                break\n",
    "            len=nu_of_cubes[y]\n",
    "            y=y-1\n",
    "    if y<x:\n",
    "        print(\"Yes\")\n",
    "    else:\n",
    "        print(\"No\")\n"
   ]
  },
  {
   "cell_type": "markdown",
   "id": "9064f6ac",
   "metadata": {},
   "source": [
    "#### Detect Floating Point Number"
   ]
  },
  {
   "cell_type": "code",
   "execution_count": null,
   "id": "ed923b3f",
   "metadata": {},
   "outputs": [],
   "source": [
    "import re\n",
    "String=int(input())\n",
    "for i in range(String):\n",
    "    str = input()\n",
    "#looked up for symbols  \"https://www.hackerrank.com/rest/contests/master/challenges/introduction-to-regex/hackers/jonathandygert/download_solution\" \n",
    "    if re.match(\"[+-]?\\d*\\.\\d+$\", str):\n",
    "        print(\"True\")\n",
    "    else:\n",
    "        print(\"False\")\n",
    "        \n",
    "        \n"
   ]
  },
  {
   "cell_type": "markdown",
   "id": "3b78684c",
   "metadata": {},
   "source": [
    "#### Group(), Groups() & Groupdict()"
   ]
  },
  {
   "cell_type": "code",
   "execution_count": null,
   "id": "81b5198f",
   "metadata": {},
   "outputs": [],
   "source": [
    "import re\n",
    "inp=input()\n",
    "rep = re.search(r\"([a-zA-Z0-9])\\1+\", inp)\n",
    "if rep:\n",
    "    print(rep.group(1))\n",
    "else:\n",
    "    print(\"-1\")\n"
   ]
  },
  {
   "cell_type": "markdown",
   "id": "d7563d8a",
   "metadata": {},
   "source": [
    "#### Re.findall() & Re.finditer()"
   ]
  },
  {
   "cell_type": "code",
   "execution_count": null,
   "id": "b919bdef",
   "metadata": {},
   "outputs": [],
   "source": [
    "import re\n",
    "sesli = \"aeiouAEIOU\"\n",
    "sessiz = \"bcdfghjklmnprstvyzqwQWBCDFGHJKLMNPRSTVYZ\"\n",
    "m = re.findall(r\"(?<=[%s])([%s]{2,})[%s]\" % (sessiz, sesli, sessiz), input())\n",
    "print('\\n'.join(m or ['-1']))\n"
   ]
  },
  {
   "cell_type": "markdown",
   "id": "d4a977c5",
   "metadata": {},
   "source": [
    "#### Re.start() & Re.end()"
   ]
  },
  {
   "cell_type": "code",
   "execution_count": null,
   "id": "aca789f8",
   "metadata": {},
   "outputs": [],
   "source": [
    "import re\n",
    "st= input() \n",
    "kt=input() \n",
    "\n",
    "\n",
    "pattern = re.compile(kt)\n",
    "m = pattern.search(st)\n",
    "if not m:\n",
    "     print(\"(-1, -1)\")\n",
    "     \n",
    "while m:\n",
    "    print(\"({0}, {1})\".format(m.start(), m.end() - 1))\n",
    "    m = pattern.search(st, m.start() + 1)\n"
   ]
  },
  {
   "cell_type": "markdown",
   "id": "ee5d2b15",
   "metadata": {},
   "source": [
    "#### Recursive Digit Sum"
   ]
  },
  {
   "cell_type": "code",
   "execution_count": null,
   "id": "06b1b4e9",
   "metadata": {},
   "outputs": [],
   "source": [
    "#!/bin/python3\n",
    "\n",
    "import math\n",
    "import os\n",
    "import random\n",
    "import re\n",
    "import sys\n",
    "\n",
    "#\n",
    "# Complete the 'superDigit' function below.\n",
    "#\n",
    "# The function is expected to return an INTEGER.\n",
    "# The function accepts following parameters:\n",
    "#  1. STRING n\n",
    "#  2. INTEGER k\n",
    "#\n",
    "\n",
    "def superDigit(n, k):\n",
    "    digit=n\n",
    "    if int(digit)>9:\n",
    "        digit=k*(sum(list(map(int,digit))))   \n",
    "    while int(digit)>9:\n",
    "        digit=str(digit)\n",
    "        digit=(sum(map(int,digit)))\n",
    "    return digit\n",
    "    \n",
    "    \n",
    "    \n",
    "   \n",
    "if __name__ == '__main__':\n",
    "    fptr = open(os.environ['OUTPUT_PATH'], 'w')\n",
    "\n",
    "    first_multiple_input = input().rstrip().split()\n",
    "\n",
    "    n = first_multiple_input[0]\n",
    "\n",
    "    k = int(first_multiple_input[1])\n",
    "\n",
    "    result = superDigit(n, k)\n",
    "\n",
    "    fptr.write(str(result) + '\\n')\n",
    "\n",
    "    fptr.close()\n"
   ]
  },
  {
   "cell_type": "markdown",
   "id": "295b5ae4",
   "metadata": {},
   "source": [
    "#### Regex Substitution"
   ]
  },
  {
   "cell_type": "code",
   "execution_count": null,
   "id": "fe298ee8",
   "metadata": {},
   "outputs": [],
   "source": [
    "import re\n",
    "for i in range(int(input())):\n",
    "    line = re.sub(r\"(?<= )\\&\\&(?= )\", \"and\", input())\n",
    "    txt = re.sub(r\"(?<= )\\|\\|(?= )\", \"or\", line)\n",
    "    print(txt)\n"
   ]
  },
  {
   "cell_type": "markdown",
   "id": "40858fb3",
   "metadata": {},
   "source": [
    "#### Validating phone numbers"
   ]
  },
  {
   "cell_type": "code",
   "execution_count": null,
   "id": "a23d2bc2",
   "metadata": {},
   "outputs": [],
   "source": [
    "import re\n",
    "for i in range(int(input())):\n",
    "    pattern = \"^[789][0-9]{9}$\"\n",
    "    if re.match(pattern, input()):\n",
    "        print('YES')\n",
    "    else:\n",
    "        print('NO')\n"
   ]
  },
  {
   "cell_type": "markdown",
   "id": "39e8eb4c",
   "metadata": {},
   "source": [
    "#### Validating and Parsing Email Addresses"
   ]
  },
  {
   "cell_type": "code",
   "execution_count": null,
   "id": "c08bda68",
   "metadata": {},
   "outputs": [],
   "source": [
    "\n",
    "import re\n",
    "for i in range(int(input().strip())):\n",
    "    string = input()\n",
    "    \n",
    "    x = string.find(\"<\")\n",
    "    if x > 0:\n",
    "        name= string[:x]\n",
    "        mail = string[x:]\n",
    "        if re.match(r\"<[a-zA-Z]{1}[\\w\\.\\-\\_]*@[a-z A-Z]+\\.[a-zA-Z]{1,3}>\",mail):\n",
    "            print(string)\n"
   ]
  },
  {
   "cell_type": "markdown",
   "id": "b9e4ea03",
   "metadata": {},
   "source": [
    "#### Validating UID "
   ]
  },
  {
   "cell_type": "code",
   "execution_count": null,
   "id": "ea378be9",
   "metadata": {},
   "outputs": [],
   "source": [
    "import re\n",
    "\n",
    "N = int(input().strip())\n",
    "\n",
    "def is_valid(X):\n",
    "    A = re.search(r\"^[a-z A-Z 0-9]{10}$\", X)\n",
    "    if A is None:\n",
    "        return \"Invalid\"\n",
    "    A = re.search(r\"([A-Z].*){2}\", X)\n",
    "    if A is None:\n",
    "        return \"Invalid\"\n",
    "    A = re.search(r\"([0-9].*){3}\", X)\n",
    "    if A is None:\n",
    "        return \"Invalid\"\n",
    "    A = re.search(r\"(.).*\\1\", X)\n",
    "    if A is not None:\n",
    "        return \"Invalid\"\n",
    "    return \"Valid\"\n",
    "for i in range(N):\n",
    "    print(is_valid(input().strip()))\n",
    "    \n",
    "    \n",
    "    \n",
    "    \n",
    "    \n",
    "    \n",
    "    \n",
    "\n"
   ]
  },
  {
   "cell_type": "markdown",
   "id": "f20b5e60",
   "metadata": {},
   "source": [
    "#### Calendar Module"
   ]
  },
  {
   "cell_type": "code",
   "execution_count": null,
   "id": "c7f7cb23",
   "metadata": {},
   "outputs": [],
   "source": [
    "import calendar \n",
    "a,g,y=(input().split())\n",
    "\n",
    "weekday = [\"MONDAY\", \"TUESDAY\", \"WEDNESDAY\", \"THURSDAY\", \"FRIDAY\", \"SATURDAY\", \"SUNDAY\"]\n",
    "print(weekday[(calendar.weekday(int(y),int(a),int(g)))])\n"
   ]
  },
  {
   "cell_type": "markdown",
   "id": "b7584796",
   "metadata": {},
   "source": [
    "#### Exceptions"
   ]
  },
  {
   "cell_type": "code",
   "execution_count": null,
   "id": "4951b0c7",
   "metadata": {},
   "outputs": [],
   "source": [
    "NTest_Cases=int(input())\n",
    "liste=[]\n",
    "for i in range(NTest_Cases):\n",
    "    a,b= input().split()\n",
    "    try:\n",
    "        print(int(a)//int(b))\n",
    "    except ZeroDivisionError as error:\n",
    "        print(\"Error Code:\",error)\n",
    "    except ValueError as error:\n",
    "        print(\"Error Code:\",error)\n"
   ]
  },
  {
   "cell_type": "markdown",
   "id": "494cf839",
   "metadata": {},
   "source": [
    "#### Exceptions"
   ]
  },
  {
   "cell_type": "code",
   "execution_count": null,
   "id": "5b1b1555",
   "metadata": {},
   "outputs": [],
   "source": [
    "NTest_Cases=int(input())\n",
    "liste=[]\n",
    "for i in range(NTest_Cases):\n",
    "    a,b= input().split()\n",
    "    try:\n",
    "        print(int(a)//int(b))\n",
    "    except ZeroDivisionError as error:\n",
    "        print(\"Error Code:\",error)\n",
    "    except ValueError as error:\n",
    "        print(\"Error Code:\",error)\n"
   ]
  },
  {
   "cell_type": "markdown",
   "id": "6003328d",
   "metadata": {},
   "source": [
    "#### Zipped!"
   ]
  },
  {
   "cell_type": "code",
   "execution_count": null,
   "id": "bd827561",
   "metadata": {},
   "outputs": [],
   "source": [
    "N, X = map(int, input().split())\n",
    "liste=[]\n",
    "\n",
    "for i in range(X):\n",
    "    liste.append(list(map(float, input().split())))\n",
    "\n",
    "liste=list(zip(*liste))\n",
    "New=[]\n",
    "for i in liste:\n",
    "    New.append(sum(i)/len(i))\n",
    "    \n",
    "for i in New:\n",
    "    print(i)\n"
   ]
  },
  {
   "cell_type": "markdown",
   "id": "26dbef02",
   "metadata": {},
   "source": [
    "#### Athlete Sort"
   ]
  },
  {
   "cell_type": "code",
   "execution_count": null,
   "id": "97c8e42f",
   "metadata": {},
   "outputs": [],
   "source": [
    "#!/bin/python3\n",
    "\n",
    "import math\n",
    "import os\n",
    "import random\n",
    "import re\n",
    "import sys\n",
    "\n",
    "\n",
    "\n",
    "if __name__ == '__main__':\n",
    "    nm = input().split()\n",
    "\n",
    "    n = int(nm[0])\n",
    "\n",
    "    m = int(nm[1])\n",
    "\n",
    "    arr = []\n",
    "\n",
    "    for _ in range(n):\n",
    "        arr.append(list(map(int, input().rstrip().split())))\n",
    "\n",
    "    k = int(input())\n",
    "arr.sort(key=lambda x: x[k])\n",
    "for i in arr:\n",
    "    print(\" \".join(str(x) for x in i))\n"
   ]
  },
  {
   "cell_type": "markdown",
   "id": "6009feed",
   "metadata": {},
   "source": [
    "#### Capitalize!"
   ]
  },
  {
   "cell_type": "code",
   "execution_count": null,
   "id": "36da4da9",
   "metadata": {},
   "outputs": [],
   "source": [
    "\n",
    "def solve(s):\n",
    "    for i in re.findall(r\"[\\w']+\", s):\n",
    "        s = s.replace(i, i.capitalize())\n",
    "    return(s)\n"
   ]
  },
  {
   "cell_type": "markdown",
   "id": "24d70a91",
   "metadata": {},
   "source": [
    "#### Insertion Sort - Part 1"
   ]
  },
  {
   "cell_type": "code",
   "execution_count": null,
   "id": "e23f5ed0",
   "metadata": {},
   "outputs": [],
   "source": [
    "#!/bin/python3\n",
    "\n",
    "import math\n",
    "import os\n",
    "import random\n",
    "import re\n",
    "import sys\n",
    "def insertionSort1(n, arr):\n",
    "    # Write your code here\n",
    "    stored=arr[-1]\n",
    "    comp1=n-1\n",
    "    comp2=n-2\n",
    "    for i in range(n):\n",
    "        liste=[stored]\n",
    "        if arr[comp2]>stored:\n",
    "            if comp2>=0:\n",
    "                arr[comp1]=arr[comp2]\n",
    "                comp1=comp1-1\n",
    "                comp2=comp2-1\n",
    "                print(*arr)\n",
    "            else:\n",
    "                arr[0]=stored\n",
    "                print(*arr)\n",
    "              \n",
    "        else:\n",
    "            arr[comp1]=stored\n",
    "            print(*arr)\n",
    "            break\n",
    "            \n",
    "    \n",
    "\n",
    "            \n",
    "if __name__ == '__main__':\n",
    "    n = int(input().strip())\n",
    "\n",
    "    arr = list(map(int, input().rstrip().split()))\n",
    "\n",
    "    insertionSort1(n, arr)\n"
   ]
  }
 ],
 "metadata": {
  "kernelspec": {
   "display_name": "Python 3 (ipykernel)",
   "language": "python",
   "name": "python3"
  },
  "language_info": {
   "codemirror_mode": {
    "name": "ipython",
    "version": 3
   },
   "file_extension": ".py",
   "mimetype": "text/x-python",
   "name": "python",
   "nbconvert_exporter": "python",
   "pygments_lexer": "ipython3",
   "version": "3.9.12"
  }
 },
 "nbformat": 4,
 "nbformat_minor": 5
}
